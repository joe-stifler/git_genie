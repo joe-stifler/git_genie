{
 "cells": [
  {
   "cell_type": "code",
   "execution_count": 43,
   "metadata": {},
   "outputs": [
    {
     "name": "stdout",
     "output_type": "stream",
     "text": [
      "The autoreload extension is already loaded. To reload it, use:\n",
      "  %reload_ext autoreload\n"
     ]
    }
   ],
   "source": [
    "%load_ext autoreload\n",
    "%autoreload 2"
   ]
  },
  {
   "cell_type": "code",
   "execution_count": 44,
   "metadata": {},
   "outputs": [
    {
     "data": {
      "text/plain": [
       "'/home/joe/Documents/1-PROJECTS/AI-Projects/UTILITIES/git_genie'"
      ]
     },
     "execution_count": 44,
     "metadata": {},
     "output_type": "execute_result"
    }
   ],
   "source": [
    "%pwd"
   ]
  },
  {
   "cell_type": "code",
   "execution_count": 45,
   "metadata": {},
   "outputs": [
    {
     "name": "stdout",
     "output_type": "stream",
     "text": [
      "Already at the repository root.\n"
     ]
    }
   ],
   "source": [
    "import os\n",
    "\n",
    "# print this notebook file name\n",
    "if not os.path.exists(\".git\"):  # Assuming a Git repository\n",
    "    %cd ../\n",
    "else:\n",
    "    print(\"Already at the repository root.\")"
   ]
  },
  {
   "cell_type": "code",
   "execution_count": 46,
   "metadata": {},
   "outputs": [],
   "source": [
    "from git_genie import *"
   ]
  },
  {
   "cell_type": "code",
   "execution_count": 47,
   "metadata": {},
   "outputs": [],
   "source": [
    "git_repo = GitRepo(\"./\")"
   ]
  },
  {
   "cell_type": "code",
   "execution_count": 48,
   "metadata": {},
   "outputs": [],
   "source": [
    "branch_name = \"feat/generate-pull-request-llm-context\""
   ]
  },
  {
   "cell_type": "code",
   "execution_count": 49,
   "metadata": {},
   "outputs": [],
   "source": [
    "commit_history = git_repo.get_commit_history(branch_name)"
   ]
  },
  {
   "cell_type": "code",
   "execution_count": 50,
   "metadata": {},
   "outputs": [
    {
     "name": "stdout",
     "output_type": "stream",
     "text": [
      "[\n",
      "    {\n",
      "        \"hash\": \"c719ebf431077f5765aa36770391611d837dc0b9\",\n",
      "        \"message\": \"ci: add pull request template\",\n",
      "        \"author\": \"joe-stifler\",\n",
      "        \"author_email\": \"joseribeiro1017@gmail.com\",\n",
      "        \"timestamp\": \"2024-03-27T09:48:02+00:00\",\n",
      "        \"files\": [\n",
      "            {\n",
      "                \"file_path\": \".github/pull_request_template.md\",\n",
      "                \"changes\": \"@@ -1,7 +0,0 @@\\n-## Why this PR and What changes?\\n-<!-- Explain the need for this PR (Pull Request). -->\\n- \\n-<!-- Summarize changes made (Pull Request). -->\\n- \\n-## Tests added?\\n-<!-- State test status and provide a brief description of the tests. -->\\n\"\n",
      "            }\n",
      "        ]\n",
      "    },\n",
      "    {\n",
      "        \"hash\": \"5e5409b5cc7e828dc13cfadf33bab19f3c2fddf8\",\n",
      "        \"message\": \"ci: add flake8 and pytest configuration files\",\n",
      "        \"author\": \"joe-stifler\",\n",
      "        \"author_email\": \"joseribeiro1017@gmail.com\",\n",
      "        \"timestamp\": \"2024-03-27T09:53:41+00:00\",\n",
      "        \"files\": [\n",
      "            {\n",
      "                \"file_path\": \".flake8\",\n",
      "                \"changes\": \"@@ -1,2 +0,0 @@\\n-[flake8]\\n-max-line-length = 200\\n\"\n",
      "            },\n",
      "            {\n",
      "                \"file_path\": \".pytest.ini\",\n",
      "                \"changes\": \"@@ -1 +0,0 @@\\n-[pytest]\\n\"\n",
      "            }\n",
      "        ]\n",
      "    }\n",
      "]\n"
     ]
    }
   ],
   "source": [
    "import json\n",
    "\n",
    "pretty_json = json.dumps(commit_history, indent=4, sort_keys=False)\n",
    "\n",
    "print(pretty_json)"
   ]
  },
  {
   "cell_type": "code",
   "execution_count": 51,
   "metadata": {},
   "outputs": [
    {
     "ename": "TypeError",
     "evalue": "MarkdownGenerator.generate_pr_description() missing 1 required positional argument: 'template_path'",
     "output_type": "error",
     "traceback": [
      "\u001b[0;31m---------------------------------------------------------------------------\u001b[0m",
      "\u001b[0;31mTypeError\u001b[0m                                 Traceback (most recent call last)",
      "Cell \u001b[0;32mIn[51], line 1\u001b[0m\n\u001b[0;32m----> 1\u001b[0m markdown_generator \u001b[38;5;241m=\u001b[39m \u001b[43mMarkdownGenerator\u001b[49m\u001b[38;5;241;43m.\u001b[39;49m\u001b[43mgenerate_pr_description\u001b[49m\u001b[43m(\u001b[49m\u001b[43mcommit_history\u001b[49m\u001b[43m)\u001b[49m\n",
      "\u001b[0;31mTypeError\u001b[0m: MarkdownGenerator.generate_pr_description() missing 1 required positional argument: 'template_path'"
     ]
    }
   ],
   "source": [
    "markdown_generator = MarkdownGenerator.generate_pr_description(commit_history)"
   ]
  },
  {
   "cell_type": "code",
   "execution_count": null,
   "metadata": {},
   "outputs": [
    {
     "data": {
      "text/plain": [
       "'# Commit History:\\n\\n```json\\n[\\n    {\\n        \"author\": \"joe-stifler\",\\n        \"author_email\": \"joseribeiro1017@gmail.com\",\\n        \"files\": [\\n            {\\n                \"changes\": \"@@ -1,7 +0,0 @@\\\\n-## Why this PR and What changes?\\\\n-<!-- Explain the need for this PR (Pull Request). -->\\\\n- \\\\n-<!-- Summarize changes made (Pull Request). -->\\\\n- \\\\n-## Tests added?\\\\n-<!-- State test status and provide a brief description of the tests. -->\\\\n\",\\n                \"file_path\": \".github/pull_request_template.md\"\\n            }\\n        ],\\n        \"hash\": \"c719ebf431077f5765aa36770391611d837dc0b9\",\\n        \"message\": \"ci: add pull request template\",\\n        \"timestamp\": \"2024-03-27T09:48:02+00:00\"\\n    },\\n    {\\n        \"author\": \"joe-stifler\",\\n        \"author_email\": \"joseribeiro1017@gmail.com\",\\n        \"files\": [\\n            {\\n                \"changes\": \"@@ -1,2 +0,0 @@\\\\n-[flake8]\\\\n-max-line-length = 200\\\\n\",\\n                \"file_path\": \".flake8\"\\n            },\\n            {\\n                \"changes\": \"@@ -1 +0,0 @@\\\\n-[pytest]\\\\n\",\\n                \"file_path\": \".pytest.ini\"\\n            }\\n        ],\\n        \"hash\": \"5e5409b5cc7e828dc13cfadf33bab19f3c2fddf8\",\\n        \"message\": \"ci: add flake8 and pytest configuration files\",\\n        \"timestamp\": \"2024-03-27T09:53:41+00:00\"\\n    }\\n]\\n```\\n\\n# Pull Request Template:\\n\\n```markdown\\n## Why this PR and What changes?\\n<!-- Explain the need for this PR (Pull Request). -->\\n \\n<!-- Summarize changes made (Pull Request). -->\\n \\n## Tests added?\\n<!-- State test status and provide a brief description of the tests. -->\\n```\\n\\n# Your Task:\\n\\n1. Review the changes in the commit history above.\\n2. Fill out the Pull Request Template.\\n'"
      ]
     },
     "execution_count": 38,
     "metadata": {},
     "output_type": "execute_result"
    }
   ],
   "source": [
    "markdown_generator"
   ]
  },
  {
   "cell_type": "code",
   "execution_count": null,
   "metadata": {},
   "outputs": [
    {
     "data": {
      "text/markdown": [
       "# Commit History:\n",
       "\n",
       "```json\n",
       "[\n",
       "    {\n",
       "        \"author\": \"joe-stifler\",\n",
       "        \"author_email\": \"joseribeiro1017@gmail.com\",\n",
       "        \"files\": [\n",
       "            {\n",
       "                \"changes\": \"@@ -1,7 +0,0 @@\\n-## Why this PR and What changes?\\n-<!-- Explain the need for this PR (Pull Request). -->\\n- \\n-<!-- Summarize changes made (Pull Request). -->\\n- \\n-## Tests added?\\n-<!-- State test status and provide a brief description of the tests. -->\\n\",\n",
       "                \"file_path\": \".github/pull_request_template.md\"\n",
       "            }\n",
       "        ],\n",
       "        \"hash\": \"c719ebf431077f5765aa36770391611d837dc0b9\",\n",
       "        \"message\": \"ci: add pull request template\",\n",
       "        \"timestamp\": \"2024-03-27T09:48:02+00:00\"\n",
       "    },\n",
       "    {\n",
       "        \"author\": \"joe-stifler\",\n",
       "        \"author_email\": \"joseribeiro1017@gmail.com\",\n",
       "        \"files\": [\n",
       "            {\n",
       "                \"changes\": \"@@ -1,2 +0,0 @@\\n-[flake8]\\n-max-line-length = 200\\n\",\n",
       "                \"file_path\": \".flake8\"\n",
       "            },\n",
       "            {\n",
       "                \"changes\": \"@@ -1 +0,0 @@\\n-[pytest]\\n\",\n",
       "                \"file_path\": \".pytest.ini\"\n",
       "            }\n",
       "        ],\n",
       "        \"hash\": \"5e5409b5cc7e828dc13cfadf33bab19f3c2fddf8\",\n",
       "        \"message\": \"ci: add flake8 and pytest configuration files\",\n",
       "        \"timestamp\": \"2024-03-27T09:53:41+00:00\"\n",
       "    }\n",
       "]\n",
       "```\n",
       "\n",
       "# Pull Request Template:\n",
       "\n",
       "```markdown\n",
       "## Why this PR and What changes?\n",
       "<!-- Explain the need for this PR (Pull Request). -->\n",
       " \n",
       "<!-- Summarize changes made (Pull Request). -->\n",
       " \n",
       "## Tests added?\n",
       "<!-- State test status and provide a brief description of the tests. -->\n",
       "```\n",
       "\n",
       "# Your Task:\n",
       "\n",
       "1. Review the changes in the commit history above.\n",
       "2. Fill out the Pull Request Template.\n"
      ],
      "text/plain": [
       "<IPython.core.display.Markdown object>"
      ]
     },
     "execution_count": 39,
     "metadata": {},
     "output_type": "execute_result"
    }
   ],
   "source": [
    "# import markdown from jupyter\n",
    "from IPython.display import Markdown\n",
    "\n",
    "Markdown(markdown_generator)"
   ]
  }
 ],
 "metadata": {
  "kernelspec": {
   "display_name": "git-genie",
   "language": "python",
   "name": "python3"
  },
  "language_info": {
   "codemirror_mode": {
    "name": "ipython",
    "version": 3
   },
   "file_extension": ".py",
   "mimetype": "text/x-python",
   "name": "python",
   "nbconvert_exporter": "python",
   "pygments_lexer": "ipython3",
   "version": "3.10.14"
  }
 },
 "nbformat": 4,
 "nbformat_minor": 2
}
